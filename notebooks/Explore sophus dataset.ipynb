{
 "cells": [
  {
   "cell_type": "code",
   "execution_count": 1,
   "metadata": {},
   "outputs": [],
   "source": [
    "import scipy.io as sio\n",
    "import pandas as pd\n",
    "import numpy as np"
   ]
  },
  {
   "cell_type": "markdown",
   "metadata": {},
   "source": [
    "# Explore the sophus dataset"
   ]
  },
  {
   "cell_type": "markdown",
   "metadata": {},
   "source": [
    "## Let's load the data for each dataset from matfiles"
   ]
  },
  {
   "cell_type": "code",
   "execution_count": 2,
   "metadata": {},
   "outputs": [],
   "source": [
    "X1_data = sio.loadmat(\"../data/data-sophus/X1_data.mat\")\n",
    "X2_data = sio.loadmat(\"../data/data-sophus/X2_data.mat\")\n",
    "X3_data = sio.loadmat(\"../data/data-sophus/X3_data.mat\")"
   ]
  },
  {
   "cell_type": "markdown",
   "metadata": {},
   "source": [
    "Then we create a DataFrame for each dataset"
   ]
  },
  {
   "cell_type": "code",
   "execution_count": 3,
   "metadata": {},
   "outputs": [],
   "source": [
    "X1 = pd.DataFrame(X1_data[\"X1_data\"])\n",
    "X2 = pd.DataFrame(X2_data[\"X2_data\"])\n",
    "X3 = pd.DataFrame(X3_data[\"X3_data\"])"
   ]
  },
  {
   "cell_type": "markdown",
   "metadata": {},
   "source": [
    "## Let's load the labels"
   ]
  },
  {
   "cell_type": "code",
   "execution_count": 4,
   "metadata": {},
   "outputs": [],
   "source": [
    "X1_labels = sio.loadmat(\"../data/data-sophus/X1_label.mat\")\n",
    "X2_labels = sio.loadmat(\"../data/data-sophus/X2_label.mat\")\n",
    "X3_labels = sio.loadmat(\"../data/data-sophus/X3_label.mat\")"
   ]
  },
  {
   "cell_type": "markdown",
   "metadata": {},
   "source": [
    "### Fixing the formating of the sample IDs so that all the datasets have the same format"
   ]
  },
  {
   "cell_type": "markdown",
   "metadata": {},
   "source": [
    "For now we are only looking at the \"Sample ID\" labels. We want to compare these to make sure that the samples match up between datasets.\n",
    "The \"Samples ID\" labels are formated different for X1 than for X2 and X3, so we have to fix this before we can compare:"
   ]
  },
  {
   "cell_type": "code",
   "execution_count": 5,
   "metadata": {},
   "outputs": [],
   "source": [
    "X1_sample_ID = []\n",
    "for l in X1_labels[\"X1_label\"][0,0]:\n",
    "    padded = f\"{int(l):07d}\"\n",
    "    with_dashes = \"-\".join([padded[:3],padded[3],padded[4:6],padded[6]])\n",
    "    X1_sample_ID.append(with_dashes)"
   ]
  },
  {
   "cell_type": "markdown",
   "metadata": {},
   "source": [
    "### Comparing the sample IDs to make sure the samples match up between datasets"
   ]
  },
  {
   "cell_type": "code",
   "execution_count": 6,
   "metadata": {},
   "outputs": [
    {
     "name": "stdout",
     "output_type": "stream",
     "text": [
      "All samples have matching IDs\n"
     ]
    }
   ],
   "source": [
    "error_count = 0\n",
    "for l1,l2,l3 in zip(X1_sample_ID,X2_labels[\"X2_label\"][0,1],X3_labels[\"X3_label\"][0,1]):\n",
    "    if (l1 != l2) or (l2 != l3):\n",
    "        print(f\"Sample IDs {l1}, {l2} and {l3} does not match\")\n",
    "        error_count += 1\n",
    "if error_count > 0:\n",
    "    print(f\"{error_count} samples did not have maching IDs\")\n",
    "else:\n",
    "    print(\"All samples have matching IDs\")"
   ]
  },
  {
   "cell_type": "markdown",
   "metadata": {},
   "source": [
    "We can also make sure that all the sample IDs are unique:"
   ]
  },
  {
   "cell_type": "code",
   "execution_count": 7,
   "metadata": {},
   "outputs": [
    {
     "data": {
      "text/plain": [
       "True"
      ]
     },
     "execution_count": 7,
     "metadata": {},
     "output_type": "execute_result"
    }
   ],
   "source": [
    "len(X1_sample_ID) == len(set(X1_sample_ID))"
   ]
  },
  {
   "cell_type": "markdown",
   "metadata": {},
   "source": [
    "### Using the sample IDs as row labels for the dataframe\n",
    "Because the sample IDs are a unique identifier for each sample, we can use them as labels for the sample axis in the dataframe"
   ]
  },
  {
   "cell_type": "code",
   "execution_count": 8,
   "metadata": {},
   "outputs": [],
   "source": [
    "X1.set_axis(X1_sample_ID, inplace=True)\n",
    "X2.set_axis(X2_labels[\"X2_label\"][0,1], inplace=True)\n",
    "X3.set_axis(X3_labels[\"X3_label\"][0,1], inplace=True)"
   ]
  },
  {
   "cell_type": "markdown",
   "metadata": {},
   "source": [
    "## Let's load the classes"
   ]
  },
  {
   "cell_type": "code",
   "execution_count": 9,
   "metadata": {},
   "outputs": [],
   "source": [
    "X1_classes = sio.loadmat(\"../data/data-sophus/X1_class.mat\")\n",
    "X2_classes = sio.loadmat(\"../data/data-sophus/X2_class.mat\")\n",
    "X3_classes = sio.loadmat(\"../data/data-sophus/X3_class.mat\")"
   ]
  },
  {
   "cell_type": "code",
   "execution_count": 10,
   "metadata": {},
   "outputs": [
    {
     "name": "stdout",
     "output_type": "stream",
     "text": [
      "(2, 9)\n",
      "(2, 7)\n",
      "(2, 7)\n"
     ]
    }
   ],
   "source": [
    "print(X1_classes[\"X1_class\"].shape)\n",
    "print(X2_classes[\"X2_class\"].shape)\n",
    "print(X3_classes[\"X3_class\"].shape)"
   ]
  },
  {
   "cell_type": "markdown",
   "metadata": {},
   "source": [
    "For now, we will only look at the \"Diet\" class, which is class 7 in all datasets"
   ]
  },
  {
   "cell_type": "code",
   "execution_count": 11,
   "metadata": {},
   "outputs": [],
   "source": [
    "X1_diet = X1_classes[\"X1_class\"][0,6]\n",
    "X2_diet = X2_classes[\"X2_class\"][0,6]\n",
    "X3_diet = X3_classes[\"X3_class\"][0,6]"
   ]
  },
  {
   "cell_type": "markdown",
   "metadata": {},
   "source": [
    "### Comparing the sample diet classes to make sure the samples match up between datasets"
   ]
  },
  {
   "cell_type": "code",
   "execution_count": 12,
   "metadata": {},
   "outputs": [
    {
     "name": "stdout",
     "output_type": "stream",
     "text": [
      "All samples have matching diets\n"
     ]
    }
   ],
   "source": [
    "error_count = np.sum(X1_diet != X2_diet) + np.sum(X1_diet != X3_diet)\n",
    "if error_count > 0:\n",
    "    print(f\"{error_count} samples did not have maching diets\")\n",
    "else:\n",
    "    print(\"All samples have matching diets\")"
   ]
  },
  {
   "cell_type": "code",
   "execution_count": 13,
   "metadata": {},
   "outputs": [
    {
     "name": "stdout",
     "output_type": "stream",
     "text": [
      "All samples match for class 0\n",
      "All samples match for class 1\n",
      "All samples match for class 2\n",
      "All samples match for class 3\n",
      "All samples match for class 4\n",
      "All samples match for class 5\n",
      "All samples match for class 6\n"
     ]
    }
   ],
   "source": [
    "for i in range(7):\n",
    "    X1_class = X1_classes[\"X1_class\"][0,i]\n",
    "    X2_class = X2_classes[\"X2_class\"][0,i]\n",
    "    X3_class = X3_classes[\"X3_class\"][0,i]\n",
    "\n",
    "    error_count = np.sum(X1_class != X2_class) + np.sum(X1_class != X3_class)\n",
    "    if error_count > 0:\n",
    "        print(f\"{error_count} samples did not for class {i}\")\n",
    "    else:\n",
    "        print(f\"All samples match for class {i}\")"
   ]
  },
  {
   "cell_type": "code",
   "execution_count": 14,
   "metadata": {},
   "outputs": [],
   "source": [
    "#X1.to_csv(\"X1.csv\")\n",
    "#X2.to_csv(\"X2.csv\")\n",
    "#X3.to_csv(\"X3.csv\")"
   ]
  },
  {
   "cell_type": "code",
   "execution_count": 15,
   "metadata": {},
   "outputs": [],
   "source": [
    "X1_ID = X1_classes[\"X1_class\"][0,5]\n",
    "X2_ID = X2_classes[\"X2_class\"][0,5]\n",
    "X3_ID = X3_classes[\"X3_class\"][0,5]"
   ]
  },
  {
   "cell_type": "code",
   "execution_count": 39,
   "metadata": {},
   "outputs": [],
   "source": [
    "import numpy as np\n",
    "unique_IDs = np.unique(X1_ID)\n",
    "ID_dict = dict.fromkeys(unique_IDs)\n",
    "ID_dict = {k: {\"SampleID\":[], \"Idx\":[]} for k in unique_IDs}\n",
    "for i, sample_id in enumerate(X1_sample_ID):\n",
    "    ID_dict[X1_ID[0,i]][\"Idx\"].append(i)\n",
    "    ID_dict[X2_ID[0,i]][\"SampleID\"].append(sample_id)    "
   ]
  },
  {
   "cell_type": "code",
   "execution_count": 40,
   "metadata": {},
   "outputs": [
    {
     "name": "stdout",
     "output_type": "stream",
     "text": [
      "{12: {'Idx': [219, 220], 'SampleID': ['001-2-09-1', '001-2-13-1']},\n",
      " 52: {'Idx': [95, 96], 'SampleID': ['005-2-09-1', '005-2-13-1']},\n",
      " 62: {'Idx': [181, 182], 'SampleID': ['006-2-13-1', '006-2-09-1']},\n",
      " 71: {'Idx': [238, 239], 'SampleID': ['007-1-09-1', '007-1-13-1']},\n",
      " 72: {'Idx': [284, 285], 'SampleID': ['007-2-13-1', '007-2-09-1']},\n",
      " 91: {'Idx': [177, 178], 'SampleID': ['009-1-09-1', '009-1-13-1']},\n",
      " 92: {'Idx': [270, 271], 'SampleID': ['009-2-09-1', '009-2-13-1']},\n",
      " 102: {'Idx': [135, 136], 'SampleID': ['010-2-13-1', '010-2-09-1']},\n",
      " 122: {'Idx': [20, 21], 'SampleID': ['012-2-13-1', '012-2-09-1']},\n",
      " 141: {'Idx': [123, 124], 'SampleID': ['014-1-13-1', '014-1-09-1']},\n",
      " 152: {'Idx': [79, 80], 'SampleID': ['015-2-13-1', '015-2-09-1']},\n",
      " 154: {'Idx': [280, 281], 'SampleID': ['015-4-13-1', '015-4-09-1']},\n",
      " 161: {'Idx': [173, 174], 'SampleID': ['016-1-09-1', '016-1-13-1']},\n",
      " 162: {'Idx': [185, 186], 'SampleID': ['016-2-09-1', '016-2-13-1']},\n",
      " 172: {'Idx': [195, 196], 'SampleID': ['017-2-13-1', '017-2-09-1']},\n",
      " 182: {'Idx': [22, 23], 'SampleID': ['018-2-09-1', '018-2-13-1']},\n",
      " 192: {'Idx': [30, 31], 'SampleID': ['019-2-13-1', '019-2-09-1']},\n",
      " 201: {'Idx': [167, 168], 'SampleID': ['020-1-09-1', '020-1-13-1']},\n",
      " 202: {'Idx': [137, 138], 'SampleID': ['020-2-13-1', '020-2-09-1']},\n",
      " 212: {'Idx': [36, 37], 'SampleID': ['021-2-13-1', '021-2-09-1']},\n",
      " 222: {'Idx': [256, 257], 'SampleID': ['022-2-13-1', '022-2-09-1']},\n",
      " 241: {'Idx': [111, 112], 'SampleID': ['024-1-09-1', '024-1-13-1']},\n",
      " 242: {'Idx': [201, 202], 'SampleID': ['024-2-13-1', '024-2-09-1']},\n",
      " 252: {'Idx': [159, 160], 'SampleID': ['025-2-09-1', '025-2-13-1']},\n",
      " 261: {'Idx': [65, 66], 'SampleID': ['026-1-09-1', '026-1-13-1']},\n",
      " 282: {'Idx': [24, 25], 'SampleID': ['028-2-13-1', '028-2-09-1']},\n",
      " 322: {'Idx': [215, 216], 'SampleID': ['032-2-09-1', '032-2-13-1']},\n",
      " 332: {'Idx': [199, 200], 'SampleID': ['033-2-13-1', '033-2-09-1']},\n",
      " 352: {'Idx': [242, 243], 'SampleID': ['035-2-13-1', '035-2-09-1']},\n",
      " 362: {'Idx': [230, 231], 'SampleID': ['036-2-09-1', '036-2-13-1']},\n",
      " 372: {'Idx': [109, 110], 'SampleID': ['037-2-09-1', '037-2-13-1']},\n",
      " 391: {'Idx': [127, 128], 'SampleID': ['039-1-13-1', '039-1-09-1']},\n",
      " 392: {'Idx': [221, 222], 'SampleID': ['039-2-13-1', '039-2-09-1']},\n",
      " 402: {'Idx': [105, 106], 'SampleID': ['040-2-09-1', '040-2-13-1']},\n",
      " 421: {'Idx': [44], 'SampleID': ['042-1-13-1']},\n",
      " 422: {'Idx': [179, 180], 'SampleID': ['042-2-09-1', '042-2-13-1']},\n",
      " 431: {'Idx': [67, 68], 'SampleID': ['043-1-13-1', '043-1-09-1']},\n",
      " 432: {'Idx': [142, 143], 'SampleID': ['043-2-09-1', '043-2-13-1']},\n",
      " 441: {'Idx': [125, 126], 'SampleID': ['044-1-13-1', '044-1-09-1']},\n",
      " 452: {'Idx': [107, 108], 'SampleID': ['045-2-09-1', '045-2-13-1']},\n",
      " 462: {'Idx': [18, 19], 'SampleID': ['046-2-09-1', '046-2-13-1']},\n",
      " 471: {'Idx': [141, 144], 'SampleID': ['047-1-09-1', '047-1-13-1']},\n",
      " 491: {'Idx': [244, 245], 'SampleID': ['049-1-13-1', '049-1-09-1']},\n",
      " 511: {'Idx': [71, 72], 'SampleID': ['051-1-09-1', '051-1-13-1']},\n",
      " 522: {'Idx': [0, 1], 'SampleID': ['052-2-13-1', '052-2-09-1']},\n",
      " 571: {'Idx': [12, 13], 'SampleID': ['057-1-09-1', '057-1-13-1']},\n",
      " 602: {'Idx': [209, 210], 'SampleID': ['060-2-13-1', '060-2-09-1']},\n",
      " 612: {'Idx': [225, 226], 'SampleID': ['061-2-09-1', '061-2-13-1']},\n",
      " 621: {'Idx': [85, 86], 'SampleID': ['062-1-09-1', '062-1-13-1']},\n",
      " 642: {'Idx': [103, 104], 'SampleID': ['064-2-09-1', '064-2-13-1']},\n",
      " 644: {'Idx': [189, 190], 'SampleID': ['064-4-13-1', '064-4-09-1']},\n",
      " 652: {'Idx': [38, 39], 'SampleID': ['065-2-13-1', '065-2-09-1']},\n",
      " 661: {'Idx': [282, 283], 'SampleID': ['066-1-09-1', '066-1-13-1']},\n",
      " 662: {'Idx': [278, 279], 'SampleID': ['066-2-13-1', '066-2-09-1']},\n",
      " 672: {'Idx': [223, 224], 'SampleID': ['067-2-09-1', '067-2-13-1']},\n",
      " 682: {'Idx': [55, 56], 'SampleID': ['068-2-09-1', '068-2-13-1']},\n",
      " 692: {'Idx': [57, 58], 'SampleID': ['069-2-13-1', '069-2-09-1']},\n",
      " 701: {'Idx': [183, 184], 'SampleID': ['070-1-09-1', '070-1-13-1']},\n",
      " 711: {'Idx': [153, 154], 'SampleID': ['071-1-09-1', '071-1-13-1']},\n",
      " 732: {'Idx': [169, 170], 'SampleID': ['073-2-09-1', '073-2-13-1']},\n",
      " 761: {'Idx': [129, 130], 'SampleID': ['076-1-13-1', '076-1-09-1']},\n",
      " 781: {'Idx': [101, 102], 'SampleID': ['078-1-09-1', '078-1-13-1']},\n",
      " 791: {'Idx': [254, 255], 'SampleID': ['079-1-09-1', '079-1-13-1']},\n",
      " 792: {'Idx': [49, 50], 'SampleID': ['079-2-13-1', '079-2-09-1']},\n",
      " 812: {'Idx': [97, 98], 'SampleID': ['081-2-09-1', '081-2-13-1']},\n",
      " 831: {'Idx': [147, 148], 'SampleID': ['083-1-13-1', '083-1-09-1']},\n",
      " 852: {'Idx': [274, 275], 'SampleID': ['085-2-09-1', '085-2-13-1']},\n",
      " 861: {'Idx': [197, 198], 'SampleID': ['086-1-09-1', '086-1-13-1']},\n",
      " 862: {'Idx': [32, 33], 'SampleID': ['086-2-09-1', '086-2-13-1']},\n",
      " 872: {'Idx': [211, 212], 'SampleID': ['087-2-09-1', '087-2-13-1']},\n",
      " 882: {'Idx': [234, 235], 'SampleID': ['088-2-13-1', '088-2-09-1']},\n",
      " 891: {'Idx': [87, 88], 'SampleID': ['089-1-09-1', '089-1-13-1']},\n",
      " 902: {'Idx': [149, 150], 'SampleID': ['090-2-09-1', '090-2-13-1']},\n",
      " 922: {'Idx': [161, 162], 'SampleID': ['092-2-13-1', '092-2-09-1']},\n",
      " 942: {'Idx': [205, 206], 'SampleID': ['094-2-13-1', '094-2-09-1']},\n",
      " 952: {'Idx': [248, 249], 'SampleID': ['095-2-13-1', '095-2-09-1']},\n",
      " 972: {'Idx': [47, 48], 'SampleID': ['097-2-09-1', '097-2-13-1']},\n",
      " 982: {'Idx': [264, 265], 'SampleID': ['098-2-13-1', '098-2-09-1']},\n",
      " 1022: {'Idx': [272, 273], 'SampleID': ['102-2-09-1', '102-2-13-1']},\n",
      " 1031: {'Idx': [258, 259], 'SampleID': ['103-1-13-1', '103-1-09-1']},\n",
      " 1042: {'Idx': [151, 152], 'SampleID': ['104-2-13-1', '104-2-09-1']},\n",
      " 1052: {'Idx': [262, 263], 'SampleID': ['105-2-09-1', '105-2-13-1']},\n",
      " 1062: {'Idx': [175, 176], 'SampleID': ['106-2-09-1', '106-2-13-1']},\n",
      " 1071: {'Idx': [213, 214], 'SampleID': ['107-1-13-1', '107-1-09-1']},\n",
      " 1072: {'Idx': [165, 166], 'SampleID': ['107-2-09-1', '107-2-13-1']},\n",
      " 1091: {'Idx': [227], 'SampleID': ['109-1-13-1']},\n",
      " 1092: {'Idx': [121, 122], 'SampleID': ['109-2-13-1', '109-2-09-1']},\n",
      " 1101: {'Idx': [14, 15], 'SampleID': ['110-1-09-1', '110-1-13-1']},\n",
      " 1122: {'Idx': [286, 287], 'SampleID': ['112-2-09-1', '112-2-13-1']},\n",
      " 1141: {'Idx': [191, 192], 'SampleID': ['114-1-13-1', '114-1-09-1']},\n",
      " 1142: {'Idx': [2, 3], 'SampleID': ['114-2-09-1', '114-2-13-1']},\n",
      " 1151: {'Idx': [171, 172], 'SampleID': ['115-1-13-1', '115-1-09-1']},\n",
      " 1162: {'Idx': [139, 140], 'SampleID': ['116-2-09-1', '116-2-13-1']},\n",
      " 1172: {'Idx': [91, 92], 'SampleID': ['117-2-13-1', '117-2-09-1']},\n",
      " 1182: {'Idx': [117, 118], 'SampleID': ['118-2-13-1', '118-2-09-1']},\n",
      " 1202: {'Idx': [163, 164], 'SampleID': ['120-2-13-1', '120-2-09-1']},\n",
      " 1212: {'Idx': [69, 70], 'SampleID': ['121-2-13-1', '121-2-09-1']},\n",
      " 1214: {'Idx': [81, 82], 'SampleID': ['121-4-13-1', '121-4-09-1']},\n",
      " 1221: {'Idx': [75, 76], 'SampleID': ['122-1-13-1', '122-1-09-1']},\n",
      " 1222: {'Idx': [157, 158], 'SampleID': ['122-2-13-1', '122-2-09-1']},\n",
      " 1232: {'Idx': [119, 120], 'SampleID': ['123-2-13-1', '123-2-09-1']},\n",
      " 1252: {'Idx': [145, 146], 'SampleID': ['125-2-09-1', '125-2-13-1']},\n",
      " 1282: {'Idx': [6, 7], 'SampleID': ['128-2-13-1', '128-2-09-1']},\n",
      " 1292: {'Idx': [207, 208], 'SampleID': ['129-2-13-1', '129-2-09-1']},\n",
      " 1301: {'Idx': [228, 229], 'SampleID': ['130-1-13-1', '130-1-09-1']},\n",
      " 1321: {'Idx': [250, 251], 'SampleID': ['132-1-13-1', '132-1-09-1']},\n",
      " 1322: {'Idx': [89, 90], 'SampleID': ['132-2-09-1', '132-2-13-1']},\n",
      " 1332: {'Idx': [203, 204], 'SampleID': ['133-2-09-1', '133-2-13-1']},\n",
      " 1342: {'Idx': [73, 74], 'SampleID': ['134-2-13-1', '134-2-09-1']},\n",
      " 1362: {'Idx': [113, 114], 'SampleID': ['136-2-13-1', '136-2-09-1']},\n",
      " 1372: {'Idx': [187, 188], 'SampleID': ['137-2-09-1', '137-2-13-1']},\n",
      " 1382: {'Idx': [8, 9], 'SampleID': ['138-2-09-1', '138-2-13-1']},\n",
      " 1392: {'Idx': [240, 241], 'SampleID': ['139-2-13-1', '139-2-09-1']},\n",
      " 1431: {'Idx': [28, 29], 'SampleID': ['143-1-09-1', '143-1-13-1']},\n",
      " 1452: {'Idx': [26, 27], 'SampleID': ['145-2-13-1', '145-2-09-1']},\n",
      " 1482: {'Idx': [16, 17], 'SampleID': ['148-2-13-1', '148-2-09-1']},\n",
      " 1492: {'Idx': [131, 132], 'SampleID': ['149-2-13-1', '149-2-09-1']},\n",
      " 1502: {'Idx': [45, 46], 'SampleID': ['150-2-09-1', '150-2-13-1']},\n",
      " 1512: {'Idx': [246, 247], 'SampleID': ['151-2-13-1', '151-2-09-1']},\n",
      " 1521: {'Idx': [217, 218], 'SampleID': ['152-1-09-1', '152-1-13-1']},\n",
      " 1532: {'Idx': [236, 237], 'SampleID': ['153-2-09-1', '153-2-13-1']},\n",
      " 1552: {'Idx': [115, 116], 'SampleID': ['155-2-13-1', '155-2-09-1']},\n",
      " 1561: {'Idx': [99, 100], 'SampleID': ['156-1-13-1', '156-1-09-1']},\n",
      " 1571: {'Idx': [252, 253], 'SampleID': ['157-1-09-1', '157-1-13-1']},\n",
      " 1572: {'Idx': [83, 84], 'SampleID': ['157-2-09-1', '157-2-13-1']},\n",
      " 1582: {'Idx': [133, 134], 'SampleID': ['158-2-13-1', '158-2-09-1']},\n",
      " 1592: {'Idx': [276, 277], 'SampleID': ['159-2-09-1', '159-2-13-1']},\n",
      " 1642: {'Idx': [155, 156], 'SampleID': ['164-2-13-1', '164-2-09-1']},\n",
      " 1662: {'Idx': [61, 62], 'SampleID': ['166-2-09-1', '166-2-13-1']},\n",
      " 1672: {'Idx': [4, 5], 'SampleID': ['167-2-13-1', '167-2-09-1']},\n",
      " 1692: {'Idx': [268, 269], 'SampleID': ['169-2-09-1', '169-2-13-1']},\n",
      " 1712: {'Idx': [63, 64], 'SampleID': ['171-2-09-1', '171-2-13-1']},\n",
      " 1721: {'Idx': [93, 94], 'SampleID': ['172-1-13-1', '172-1-09-1']},\n",
      " 1722: {'Idx': [10, 11], 'SampleID': ['172-2-09-1', '172-2-13-1']},\n",
      " 1741: {'Idx': [77, 78], 'SampleID': ['174-1-13-1', '174-1-09-1']},\n",
      " 1742: {'Idx': [59, 60], 'SampleID': ['174-2-13-1', '174-2-09-1']},\n",
      " 1761: {'Idx': [42, 43], 'SampleID': ['176-1-13-1', '176-1-09-1']},\n",
      " 1782: {'Idx': [53, 54], 'SampleID': ['178-2-09-1', '178-2-13-1']},\n",
      " 1801: {'Idx': [40, 41], 'SampleID': ['180-1-13-1', '180-1-09-1']},\n",
      " 1802: {'Idx': [51, 52], 'SampleID': ['180-2-09-1', '180-2-13-1']},\n",
      " 1812: {'Idx': [232, 233], 'SampleID': ['181-2-09-1', '181-2-13-1']},\n",
      " 1831: {'Idx': [260, 261], 'SampleID': ['183-1-09-1', '183-1-13-1']},\n",
      " 1832: {'Idx': [266, 267], 'SampleID': ['183-2-13-1', '183-2-09-1']},\n",
      " 1851: {'Idx': [34, 35], 'SampleID': ['185-1-13-1', '185-1-09-1']},\n",
      " 1871: {'Idx': [193, 194], 'SampleID': ['187-1-13-1', '187-1-09-1']}}\n"
     ]
    }
   ],
   "source": [
    "from pprint import pprint\n",
    "pprint(ID_dict)"
   ]
  },
  {
   "cell_type": "code",
   "execution_count": 38,
   "metadata": {},
   "outputs": [],
   "source": [
    "double_sample_IDs = [k for k in ID_dict.keys() if len(ID_dict[k][\"Idx\"]) == 2]"
   ]
  },
  {
   "cell_type": "code",
   "execution_count": null,
   "metadata": {},
   "outputs": [],
   "source": []
  }
 ],
 "metadata": {
  "kernelspec": {
   "display_name": "Python 3",
   "language": "python",
   "name": "python3"
  },
  "language_info": {
   "codemirror_mode": {
    "name": "ipython",
    "version": 3
   },
   "file_extension": ".py",
   "mimetype": "text/x-python",
   "name": "python",
   "nbconvert_exporter": "python",
   "pygments_lexer": "ipython3",
   "version": "3.6.5"
  },
  "toc": {
   "base_numbering": 1,
   "nav_menu": {},
   "number_sections": true,
   "sideBar": true,
   "skip_h1_title": false,
   "title_cell": "Table of Contents",
   "title_sidebar": "Contents",
   "toc_cell": false,
   "toc_position": {},
   "toc_section_display": true,
   "toc_window_display": false
  }
 },
 "nbformat": 4,
 "nbformat_minor": 2
}
