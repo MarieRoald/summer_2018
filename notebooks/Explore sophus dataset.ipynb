{
 "cells": [
  {
   "cell_type": "code",
   "execution_count": 1,
   "metadata": {},
   "outputs": [],
   "source": [
    "import scipy.io as sio\n",
    "import pandas as pd\n",
    "import numpy as np"
   ]
  },
  {
   "cell_type": "markdown",
   "metadata": {},
   "source": [
    "# Explore the sophus dataset"
   ]
  },
  {
   "cell_type": "markdown",
   "metadata": {},
   "source": [
    "## Let's load the data for each dataset from matfiles"
   ]
  },
  {
   "cell_type": "code",
   "execution_count": 2,
   "metadata": {},
   "outputs": [],
   "source": [
    "X1_data = sio.loadmat(\"../data/data-sophus/X1_data.mat\")\n",
    "X2_data = sio.loadmat(\"../data/data-sophus/X2_data.mat\")\n",
    "X3_data = sio.loadmat(\"../data/data-sophus/X3_data.mat\")"
   ]
  },
  {
   "cell_type": "markdown",
   "metadata": {},
   "source": [
    "Then we create a DataFrame for each dataset"
   ]
  },
  {
   "cell_type": "code",
   "execution_count": 3,
   "metadata": {},
   "outputs": [],
   "source": [
    "X1 = pd.DataFrame(X1_data[\"X1_data\"])\n",
    "X2 = pd.DataFrame(X2_data[\"X2_data\"])\n",
    "X3 = pd.DataFrame(X3_data[\"X3_data\"])"
   ]
  },
  {
   "cell_type": "markdown",
   "metadata": {},
   "source": [
    "## Let's load the labels"
   ]
  },
  {
   "cell_type": "code",
   "execution_count": 4,
   "metadata": {},
   "outputs": [],
   "source": [
    "X1_labels = sio.loadmat(\"../data/data-sophus/X1_label.mat\")\n",
    "X2_labels = sio.loadmat(\"../data/data-sophus/X2_label.mat\")\n",
    "X3_labels = sio.loadmat(\"../data/data-sophus/X3_label.mat\")"
   ]
  },
  {
   "cell_type": "markdown",
   "metadata": {},
   "source": [
    "### Fixing the formating of the sample IDs so that all the datasets have the same format"
   ]
  },
  {
   "cell_type": "markdown",
   "metadata": {},
   "source": [
    "For now we are only looking at the \"Sample ID\" labels. We want to compare these to make sure that the samples match up between datasets.\n",
    "The \"Samples ID\" labels are formated different for X1 than for X2 and X3, so we have to fix this before we can compare:"
   ]
  },
  {
   "cell_type": "code",
   "execution_count": 25,
   "metadata": {},
   "outputs": [],
   "source": [
    "X1_sample_ID = []\n",
    "for l in X1_labels[\"X1_label\"][0,0]:\n",
    "    padded = f\"{int(l):07d}\"\n",
    "    with_dashes = \"-\".join([padded[:3],padded[3],padded[4:6],padded[6]])\n",
    "    X1_sample_ID.append(with_dashes)"
   ]
  },
  {
   "cell_type": "markdown",
   "metadata": {},
   "source": [
    "### Comparing the sample IDs to make sure the samples match up between datasets"
   ]
  },
  {
   "cell_type": "code",
   "execution_count": 26,
   "metadata": {},
   "outputs": [
    {
     "name": "stdout",
     "output_type": "stream",
     "text": [
      "All samples have matching IDs\n"
     ]
    }
   ],
   "source": [
    "error_count = 0\n",
    "for l1,l2,l3 in zip(X1_sample_ID,X2_labels[\"X2_label\"][0,1],X3_labels[\"X3_label\"][0,1]):\n",
    "    if (l1 != l2) or (l2 != l3):\n",
    "        print(f\"Sample IDs {l1}, {l2} and {l3} does not match\")\n",
    "        error_count += 1\n",
    "if error_count > 0:\n",
    "    print(f\"{error_count} samples did not have maching IDs\")\n",
    "else:\n",
    "    print(\"All samples have matching IDs\")"
   ]
  },
  {
   "cell_type": "markdown",
   "metadata": {},
   "source": [
    "We can also make sure that all the sample IDs are unique:"
   ]
  },
  {
   "cell_type": "code",
   "execution_count": 7,
   "metadata": {},
   "outputs": [
    {
     "data": {
      "text/plain": [
       "True"
      ]
     },
     "execution_count": 7,
     "metadata": {},
     "output_type": "execute_result"
    }
   ],
   "source": [
    "len(X1_sample_ID) == len(set(X1_sample_ID))"
   ]
  },
  {
   "cell_type": "markdown",
   "metadata": {},
   "source": [
    "### Using the sample IDs as row labels for the dataframe\n",
    "Because the sample IDs are a unique identifier for each sample, we can use them as labels for the sample axis in the dataframe"
   ]
  },
  {
   "cell_type": "code",
   "execution_count": 8,
   "metadata": {},
   "outputs": [],
   "source": [
    "X1.set_axis(X1_sample_ID, inplace=True)\n",
    "X2.set_axis(X2_labels[\"X2_label\"][0,1], inplace=True)\n",
    "X3.set_axis(X3_labels[\"X3_label\"][0,1], inplace=True)"
   ]
  },
  {
   "cell_type": "markdown",
   "metadata": {},
   "source": [
    "## Let's load the classes"
   ]
  },
  {
   "cell_type": "code",
   "execution_count": 9,
   "metadata": {},
   "outputs": [],
   "source": [
    "X1_classes = sio.loadmat(\"../data/data-sophus/X1_class.mat\")\n",
    "X2_classes = sio.loadmat(\"../data/data-sophus/X2_class.mat\")\n",
    "X3_classes = sio.loadmat(\"../data/data-sophus/X3_class.mat\")"
   ]
  },
  {
   "cell_type": "code",
   "execution_count": 20,
   "metadata": {},
   "outputs": [
    {
     "name": "stdout",
     "output_type": "stream",
     "text": [
      "(2, 9)\n",
      "(2, 7)\n",
      "(2, 7)\n"
     ]
    }
   ],
   "source": [
    "print(X1_classes[\"X1_class\"].shape)\n",
    "print(X2_classes[\"X2_class\"].shape)\n",
    "print(X3_classes[\"X3_class\"].shape)"
   ]
  },
  {
   "cell_type": "markdown",
   "metadata": {},
   "source": [
    "For now, we will only look at the \"Diet\" class, which is class 7 in all datasets"
   ]
  },
  {
   "cell_type": "code",
   "execution_count": 21,
   "metadata": {},
   "outputs": [],
   "source": [
    "X1_diet = X1_classes[\"X1_class\"][0,6]\n",
    "X2_diet = X2_classes[\"X2_class\"][0,6]\n",
    "X3_diet = X3_classes[\"X3_class\"][0,6]"
   ]
  },
  {
   "cell_type": "markdown",
   "metadata": {},
   "source": [
    "### Comparing the sample diet classes to make sure the samples match up between datasets"
   ]
  },
  {
   "cell_type": "code",
   "execution_count": 62,
   "metadata": {},
   "outputs": [
    {
     "name": "stdout",
     "output_type": "stream",
     "text": [
      "All samples have matching diets\n"
     ]
    }
   ],
   "source": [
    "error_count = np.sum(X1_diet != X2_diet) + np.sum(X1_diet != X3_diet)\n",
    "if error_count > 0:\n",
    "    print(f\"{error_count} samples did not have maching diets\")\n",
    "else:\n",
    "    print(\"All samples have matching diets\")"
   ]
  },
  {
   "cell_type": "code",
   "execution_count": null,
   "metadata": {},
   "outputs": [],
   "source": []
  }
 ],
 "metadata": {
  "kernelspec": {
   "display_name": "Python 3",
   "language": "python",
   "name": "python3"
  },
  "language_info": {
   "codemirror_mode": {
    "name": "ipython",
    "version": 3
   },
   "file_extension": ".py",
   "mimetype": "text/x-python",
   "name": "python",
   "nbconvert_exporter": "python",
   "pygments_lexer": "ipython3",
   "version": "3.6.5"
  }
 },
 "nbformat": 4,
 "nbformat_minor": 2
}
