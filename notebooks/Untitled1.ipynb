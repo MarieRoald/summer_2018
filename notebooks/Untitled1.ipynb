{
 "cells": [
  {
   "cell_type": "code",
   "execution_count": 1,
   "metadata": {},
   "outputs": [
    {
     "name": "stderr",
     "output_type": "stream",
     "text": [
      "Using TensorFlow backend.\n"
     ]
    }
   ],
   "source": [
    "from comet_ml import Experiment\n",
    "\n",
    "from log_utils import plot_mean_std_loss, GroupedCometLogger\n",
    "from data_reader import DataReader\n",
    "from autoencode import Autoencoder\n",
    "\n",
    "from sklearn.model_selection import train_test_split\n",
    "from sklearn.decomposition import PCA\n",
    "\n",
    "from sklearn.preprocessing import StandardScaler\n",
    "\n",
    "import numpy as np\n",
    "from sklearn.model_selection import GroupKFold, GroupShuffleSplit"
   ]
  },
  {
   "cell_type": "code",
   "execution_count": 2,
   "metadata": {
    "collapsed": true
   },
   "outputs": [],
   "source": [
    "filenames = [\"X1_train.csv\", \"X2_train.csv\", \"X3_train.csv\"]\n",
    "data_reader = DataReader(data_set_filenames=filenames, groups_filename=\"ID_train.csv\")\n",
    "data = data_reader.get_all_data().values\n",
    "\n",
    "groups = data_reader.get_groups()\n",
    "\n",
    "train_idx, val_idx = next(GroupShuffleSplit().split(data, groups=groups))\n",
    "data_train, data_val = data[train_idx], data[val_idx]"
   ]
  },
  {
   "cell_type": "code",
   "execution_count": 3,
   "metadata": {
    "collapsed": true
   },
   "outputs": [],
   "source": [
    "sc = StandardScaler()\n",
    "data_train = sc.fit_transform(data_train)\n",
    "data_val = sc.transform(data_val)"
   ]
  },
  {
   "cell_type": "code",
   "execution_count": 25,
   "metadata": {},
   "outputs": [
    {
     "data": {
      "text/plain": [
       "(160, 3048)"
      ]
     },
     "execution_count": 25,
     "metadata": {},
     "output_type": "execute_result"
    }
   ],
   "source": [
    "data_train.shape"
   ]
  },
  {
   "cell_type": "code",
   "execution_count": 26,
   "metadata": {},
   "outputs": [
    {
     "name": "stdout",
     "output_type": "stream",
     "text": [
      "2.0196012525810603e-15\n"
     ]
    },
    {
     "name": "stderr",
     "output_type": "stream",
     "text": [
      "COMET ERROR: Streaming error\n"
     ]
    }
   ],
   "source": [
    "pca = PCA(n_components=3048)\n",
    "pca.fit(data_train)\n",
    "\n",
    "\n",
    "embedding = pca.transform(data_train)\n",
    "predictions = pca.inverse_transform(embedding)\n",
    "\n",
    "\n",
    "val_rmse = np.sqrt(((predictions - data_train)**2).mean())\n",
    "print(val_rmse)"
   ]
  },
  {
   "cell_type": "code",
   "execution_count": null,
   "metadata": {
    "collapsed": true
   },
   "outputs": [],
   "source": [
    "input_shape = (data.shape[1],)\n",
    "latent_shape = (100,)\n",
    "\n",
    "config = {\n",
    "    \"encoder\": [\n",
    "        {\n",
    "            \"name\": \"latent\",\n",
    "            \"type\": \"Dense\",\n",
    "            \"kwargs\": {\n",
    "                \"units\": latent_shape[0],\n",
    "                \"activation\": \"linear\"\n",
    "            }\n",
    "        }\n",
    "    ],\n",
    "    \"decoder\": [\n",
    "        {\n",
    "            \"name\": \"output\",\n",
    "            \"type\": \"Dense\",\n",
    "            \"kwargs\": {\n",
    "                \"units\": data.shape[1],\n",
    "                \"activation\": \"linear\"\n",
    "            }\n",
    "        }\n",
    "    ]\n",
    "}\n",
    "\n",
    "optimizer_params = {\n",
    "    \"type\": \"adam\",\n",
    "    \"kwargs\": {\n",
    "        \n",
    "    }\n",
    "}\n",
    "\n",
    "ae = Autoencoder(config[\"encoder\"],\n",
    "                 config[\"decoder\"],\n",
    "                 input_shape=input_shape,\n",
    "                 latent_shape=latent_shape,\n",
    "                 loss=\"mean_squared_error\",\n",
    "                 optimizer_params=optimizer_params)\n",
    "\n",
    "groups = data_reader.get_groups()\n",
    "\n",
    "experiment = Experiment(project_name=\"comet test\", api_key=\"50kNmWUHJrWHz3FlgtpITIsB1\")\n",
    "experiment.log_parameter(\"Experiment name\", \"PCA comparison test\")\n",
    "\n",
    "ae.fit(data_train, epochs=10000)\n",
    "predictions = ae.predict(data_val)\n",
    "\n",
    "val_rmse = np.sqrt(((predictions - data_val)**2).mean())\n",
    "print(val_rmse)"
   ]
  },
  {
   "cell_type": "markdown",
   "metadata": {},
   "source": [
    "### "
   ]
  }
 ],
 "metadata": {
  "kernelspec": {
   "display_name": "Python 3",
   "language": "python",
   "name": "python3"
  },
  "language_info": {
   "codemirror_mode": {
    "name": "ipython",
    "version": 3
   },
   "file_extension": ".py",
   "mimetype": "text/x-python",
   "name": "python",
   "nbconvert_exporter": "python",
   "pygments_lexer": "ipython3",
   "version": "3.6.1"
  }
 },
 "nbformat": 4,
 "nbformat_minor": 2
}
